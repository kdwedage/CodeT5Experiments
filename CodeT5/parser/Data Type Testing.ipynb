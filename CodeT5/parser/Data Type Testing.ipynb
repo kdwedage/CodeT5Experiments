{
 "cells": [
  {
   "cell_type": "code",
   "execution_count": 5,
   "id": "193acbf2-0a71-498a-9f89-d283c20cb65c",
   "metadata": {},
   "outputs": [],
   "source": [
    "import sys\n",
    "from tree_sitter import Language, Parser\n",
    "\n",
    "sys.path.append('/home/CodeT5Experiments/CodeT5/parser/')\n",
    "from DFG import DFG_python\n",
    "from parser_utils import (remove_comments_and_docstrings,\n",
    "                   tree_to_token_index,\n",
    "                   index_to_code_token,\n",
    "                   tree_to_variable_index,\n",
    "                   tree_to_token_nodes)"
   ]
  },
  {
   "cell_type": "code",
   "execution_count": 6,
   "id": "053d2629-58f8-45f0-813e-ec99a01927d0",
   "metadata": {},
   "outputs": [
    {
     "data": {
      "application/vnd.jupyter.widget-view+json": {
       "model_id": "e1c5596d6c794b888d14fb64f17945a5",
       "version_major": 2,
       "version_minor": 0
      },
      "text/plain": [
       "Downloading readme:   0%|          | 0.00/26.7k [00:00<?, ?B/s]"
      ]
     },
     "metadata": {},
     "output_type": "display_data"
    },
    {
     "data": {
      "application/vnd.jupyter.widget-view+json": {
       "model_id": "3b95005395344f8da780da9f1bae43b4",
       "version_major": 2,
       "version_minor": 0
      },
      "text/plain": [
       "Downloading data:   0%|          | 0.00/144M [00:00<?, ?B/s]"
      ]
     },
     "metadata": {},
     "output_type": "display_data"
    },
    {
     "data": {
      "application/vnd.jupyter.widget-view+json": {
       "model_id": "19d00857e01745578a026357d63796d2",
       "version_major": 2,
       "version_minor": 0
      },
      "text/plain": [
       "Downloading data:   0%|          | 0.00/147M [00:00<?, ?B/s]"
      ]
     },
     "metadata": {},
     "output_type": "display_data"
    },
    {
     "data": {
      "application/vnd.jupyter.widget-view+json": {
       "model_id": "6ac3a2a0a9934ae985d545c2bebb227a",
       "version_major": 2,
       "version_minor": 0
      },
      "text/plain": [
       "Downloading data:   0%|          | 0.00/16.7M [00:00<?, ?B/s]"
      ]
     },
     "metadata": {},
     "output_type": "display_data"
    },
    {
     "data": {
      "application/vnd.jupyter.widget-view+json": {
       "model_id": "f82c2406bb9a41209e360481a5830b6c",
       "version_major": 2,
       "version_minor": 0
      },
      "text/plain": [
       "Downloading data:   0%|          | 0.00/18.0M [00:00<?, ?B/s]"
      ]
     },
     "metadata": {},
     "output_type": "display_data"
    },
    {
     "data": {
      "application/vnd.jupyter.widget-view+json": {
       "model_id": "560ae25f74424d68b5c5dcde9dd74994",
       "version_major": 2,
       "version_minor": 0
      },
      "text/plain": [
       "Generating train split:   0%|          | 0/251820 [00:00<?, ? examples/s]"
      ]
     },
     "metadata": {},
     "output_type": "display_data"
    },
    {
     "data": {
      "application/vnd.jupyter.widget-view+json": {
       "model_id": "b2a455b42ead43da955f7aae14cdec87",
       "version_major": 2,
       "version_minor": 0
      },
      "text/plain": [
       "Generating validation split:   0%|          | 0/13914 [00:00<?, ? examples/s]"
      ]
     },
     "metadata": {},
     "output_type": "display_data"
    },
    {
     "data": {
      "application/vnd.jupyter.widget-view+json": {
       "model_id": "7f10df8b7b9d4adc9e7d6dc9abd78687",
       "version_major": 2,
       "version_minor": 0
      },
      "text/plain": [
       "Generating test split:   0%|          | 0/14918 [00:00<?, ? examples/s]"
      ]
     },
     "metadata": {},
     "output_type": "display_data"
    }
   ],
   "source": [
    "from datasets import load_dataset\n",
    "\n",
    "dataset = load_dataset(\"code_x_glue_ct_code_to_text\", \"python\")"
   ]
  },
  {
   "cell_type": "code",
   "execution_count": 8,
   "id": "f8f2bc9a-e82c-46cf-9660-54e4654eabfb",
   "metadata": {},
   "outputs": [
    {
     "data": {
      "text/plain": [
       "dict_keys(['id', 'repo', 'path', 'func_name', 'original_string', 'language', 'code', 'code_tokens', 'docstring', 'docstring_tokens', 'sha', 'url'])"
      ]
     },
     "execution_count": 8,
     "metadata": {},
     "output_type": "execute_result"
    }
   ],
   "source": [
    "dataset['train'][0].keys()"
   ]
  },
  {
   "cell_type": "code",
   "execution_count": 13,
   "id": "8cd6b37b-ca75-4ca5-bb14-3fb2f1f41b01",
   "metadata": {},
   "outputs": [
    {
     "data": {
      "text/plain": [
       "'def settext(self, text, cls=\\'current\\'):\\n        \"\"\"Set the text for this element.\\n\\n        Arguments:\\n            text (str): The text\\n            cls (str): The class of the text, defaults to ``current`` (leave this unless you know what you are doing). There may be only one text content element of each class associated with the element.\\n        \"\"\"\\n        self.replace(TextContent, value=text, cls=cls)'"
      ]
     },
     "execution_count": 13,
     "metadata": {},
     "output_type": "execute_result"
    }
   ],
   "source": [
    "code_example = dataset['train'][0]['code']\n",
    "code_example"
   ]
  },
  {
   "cell_type": "code",
   "execution_count": 10,
   "id": "2951153a-c02c-41d5-b4c1-3a8089e61d68",
   "metadata": {},
   "outputs": [],
   "source": [
    "dfg_function={\n",
    "'python':DFG_python\n",
    "}"
   ]
  },
  {
   "cell_type": "code",
   "execution_count": 11,
   "id": "fa0e2210-6238-4675-b9c8-3904a72254f8",
   "metadata": {},
   "outputs": [],
   "source": [
    "parsers={}        \n",
    "for lang in dfg_function:\n",
    "    LANGUAGE = Language('/home/CodeT5Experiments/CodeT5/parser/my-languages2.so', lang)\n",
    "    parser = Parser()\n",
    "    parser.set_language(LANGUAGE) \n",
    "    parser = [parser,dfg_function[lang]]    \n",
    "    parsers[lang]= parser\n"
   ]
  },
  {
   "cell_type": "code",
   "execution_count": 14,
   "id": "32f9c76d-61f4-495d-a09e-97bc72efd2ed",
   "metadata": {},
   "outputs": [],
   "source": [
    "# Add AST.\n",
    "tree = parsers['python'][0].parse(bytes(code_example,'utf8')) \n",
    "root_node = tree.root_node"
   ]
  },
  {
   "cell_type": "code",
   "execution_count": 16,
   "id": "e07bf4f8-9dd7-4fae-be55-4b5d47e0658e",
   "metadata": {},
   "outputs": [
    {
     "data": {
      "text/plain": [
       "'(module (function_definition name: (identifier) parameters: (parameters (identifier) (identifier) (default_parameter name: (identifier) value: (string))) body: (block (expression_statement (string)) (expression_statement (call function: (attribute object: (identifier) attribute: (identifier)) arguments: (argument_list (identifier) (keyword_argument name: (identifier) value: (identifier)) (keyword_argument name: (identifier) value: (identifier))))))))'"
      ]
     },
     "execution_count": 16,
     "metadata": {},
     "output_type": "execute_result"
    }
   ],
   "source": [
    "ast = root_node.sexp()\n",
    "ast"
   ]
  },
  {
   "cell_type": "code",
   "execution_count": 20,
   "id": "fa345a55-f1a0-406e-8a56-4668f92eb7d4",
   "metadata": {},
   "outputs": [],
   "source": [
    "def preorder_traversal(node):\n",
    "    result = \"\"\n",
    "    result += node.type + ' ' #\" \" + node.text.decode('utf-8')\n",
    "    \n",
    "    # Recursively traverse the children in preorder\n",
    "    for child in node.children:\n",
    "        result += preorder_traversal(child)\n",
    "    \n",
    "    return result"
   ]
  },
  {
   "cell_type": "code",
   "execution_count": 19,
   "id": "c9d33eaa-35cd-40cb-9de2-8ca4244517cb",
   "metadata": {},
   "outputs": [
    {
     "data": {
      "text/plain": [
       "'module def settext(self, text, cls=\\'current\\'):\\n        \"\"\"Set the text for this element.\\n\\n        Arguments:\\n            text (str): The text\\n            cls (str): The class of the text, defaults to ``current`` (leave this unless you know what you are doing). There may be only one text content element of each class associated with the element.\\n        \"\"\"\\n        self.replace(TextContent, value=text, cls=cls)\\nfunction_definition def settext(self, text, cls=\\'current\\'):\\n        \"\"\"Set the text for this element.\\n\\n        Arguments:\\n            text (str): The text\\n            cls (str): The class of the text, defaults to ``current`` (leave this unless you know what you are doing). There may be only one text content element of each class associated with the element.\\n        \"\"\"\\n        self.replace(TextContent, value=text, cls=cls)\\ndef def\\nidentifier settext\\nparameters (self, text, cls=\\'current\\')\\n( (\\nidentifier self\\n, ,\\nidentifier text\\n, ,\\ndefault_parameter cls=\\'current\\'\\nidentifier cls\\n= =\\nstring \\'current\\'\\n\" \\'\\n\" \\'\\n) )\\n: :\\nblock \"\"\"Set the text for this element.\\n\\n        Arguments:\\n            text (str): The text\\n            cls (str): The class of the text, defaults to ``current`` (leave this unless you know what you are doing). There may be only one text content element of each class associated with the element.\\n        \"\"\"\\n        self.replace(TextContent, value=text, cls=cls)\\nexpression_statement \"\"\"Set the text for this element.\\n\\n        Arguments:\\n            text (str): The text\\n            cls (str): The class of the text, defaults to ``current`` (leave this unless you know what you are doing). There may be only one text content element of each class associated with the element.\\n        \"\"\"\\nstring \"\"\"Set the text for this element.\\n\\n        Arguments:\\n            text (str): The text\\n            cls (str): The class of the text, defaults to ``current`` (leave this unless you know what you are doing). There may be only one text content element of each class associated with the element.\\n        \"\"\"\\n\" \"\"\"\\n\" \"\"\"\\nexpression_statement self.replace(TextContent, value=text, cls=cls)\\ncall self.replace(TextContent, value=text, cls=cls)\\nattribute self.replace\\nidentifier self\\n. .\\nidentifier replace\\nargument_list (TextContent, value=text, cls=cls)\\n( (\\nidentifier TextContent\\n, ,\\nkeyword_argument value=text\\nidentifier value\\n= =\\nidentifier text\\n, ,\\nkeyword_argument cls=cls\\nidentifier cls\\n= =\\nidentifier cls\\n) )\\n'"
      ]
     },
     "execution_count": 19,
     "metadata": {},
     "output_type": "execute_result"
    }
   ],
   "source": [
    "ast_preorder = preorder_traversal(root_node)\n",
    "ast_preorder"
   ]
  },
  {
   "cell_type": "code",
   "execution_count": 21,
   "id": "c3d3b2ea-0831-47aa-bf0f-9ad3854aec72",
   "metadata": {},
   "outputs": [
    {
     "data": {
      "text/plain": [
       "'module function_definition def identifier parameters ( identifier , identifier , default_parameter identifier = string \" \" ) : block expression_statement string \" \" expression_statement call attribute identifier . identifier argument_list ( identifier , keyword_argument identifier = identifier , keyword_argument identifier = identifier ) '"
      ]
     },
     "execution_count": 21,
     "metadata": {},
     "output_type": "execute_result"
    }
   ],
   "source": [
    "ast_preorder = preorder_traversal(root_node)\n",
    "ast_preorder"
   ]
  }
 ],
 "metadata": {
  "kernelspec": {
   "display_name": "Python 3 (ipykernel)",
   "language": "python",
   "name": "python3"
  },
  "language_info": {
   "codemirror_mode": {
    "name": "ipython",
    "version": 3
   },
   "file_extension": ".py",
   "mimetype": "text/x-python",
   "name": "python",
   "nbconvert_exporter": "python",
   "pygments_lexer": "ipython3",
   "version": "3.10.13"
  }
 },
 "nbformat": 4,
 "nbformat_minor": 5
}
